{
 "cells": [
  {
   "cell_type": "code",
   "execution_count": 1,
   "metadata": {},
   "outputs": [
    {
     "name": "stderr",
     "output_type": "stream",
     "text": [
      "Using TensorFlow backend.\n"
     ]
    },
    {
     "name": "stdout",
     "output_type": "stream",
     "text": [
      "Downloading data from https://s3.amazonaws.com/text-datasets/reuters.npz\n",
      "2113536/2110848 [==============================] - 7s 3us/step\n"
     ]
    }
   ],
   "source": [
    "from keras.datasets import reuters\n",
    "(train_data, train_labels), (test_data, test_labels) = reuters.load_data(\n",
    "num_words=10000)"
   ]
  },
  {
   "cell_type": "code",
   "execution_count": 2,
   "metadata": {},
   "outputs": [
    {
     "data": {
      "text/plain": [
       "8982"
      ]
     },
     "execution_count": 2,
     "metadata": {},
     "output_type": "execute_result"
    }
   ],
   "source": [
    "len(train_data)"
   ]
  },
  {
   "cell_type": "code",
   "execution_count": 3,
   "metadata": {},
   "outputs": [
    {
     "data": {
      "text/plain": [
       "2246"
      ]
     },
     "execution_count": 3,
     "metadata": {},
     "output_type": "execute_result"
    }
   ],
   "source": [
    "len(test_data)"
   ]
  },
  {
   "cell_type": "code",
   "execution_count": 17,
   "metadata": {},
   "outputs": [
    {
     "name": "stdout",
     "output_type": "stream",
     "text": [
      "? ? ? said as a result of its december acquisition of space co it expects earnings per share in 1987 of 1 15 to 1 30 dlrs per share up from 70 cts in 1986 the company said pretax net should rise to nine to 10 mln dlrs from six mln dlrs in 1986 and rental operation revenues to 19 to 22 mln dlrs from 12 5 mln dlrs it said cash flow per share this year should be 2 50 to three dlrs reuter 3\n"
     ]
    }
   ],
   "source": [
    "word_index = reuters.get_word_index()\n",
    "reverse_word_index = dict([(value, key) for (key, value) in word_index.items()])\n",
    "decoded_newswire = ' '.join([reverse_word_index.get(i - 3, '?') for i in\n",
    "train_data[0]])\n",
    "print(decoded_newswire)"
   ]
  },
  {
   "cell_type": "code",
   "execution_count": 18,
   "metadata": {},
   "outputs": [
    {
     "data": {
      "text/plain": [
       "[1,\n",
       " 2,\n",
       " 2,\n",
       " 8,\n",
       " 43,\n",
       " 10,\n",
       " 447,\n",
       " 5,\n",
       " 25,\n",
       " 207,\n",
       " 270,\n",
       " 5,\n",
       " 3095,\n",
       " 111,\n",
       " 16,\n",
       " 369,\n",
       " 186,\n",
       " 90,\n",
       " 67,\n",
       " 7,\n",
       " 89,\n",
       " 5,\n",
       " 19,\n",
       " 102,\n",
       " 6,\n",
       " 19,\n",
       " 124,\n",
       " 15,\n",
       " 90,\n",
       " 67,\n",
       " 84,\n",
       " 22,\n",
       " 482,\n",
       " 26,\n",
       " 7,\n",
       " 48,\n",
       " 4,\n",
       " 49,\n",
       " 8,\n",
       " 864,\n",
       " 39,\n",
       " 209,\n",
       " 154,\n",
       " 6,\n",
       " 151,\n",
       " 6,\n",
       " 83,\n",
       " 11,\n",
       " 15,\n",
       " 22,\n",
       " 155,\n",
       " 11,\n",
       " 15,\n",
       " 7,\n",
       " 48,\n",
       " 9,\n",
       " 4579,\n",
       " 1005,\n",
       " 504,\n",
       " 6,\n",
       " 258,\n",
       " 6,\n",
       " 272,\n",
       " 11,\n",
       " 15,\n",
       " 22,\n",
       " 134,\n",
       " 44,\n",
       " 11,\n",
       " 15,\n",
       " 16,\n",
       " 8,\n",
       " 197,\n",
       " 1245,\n",
       " 90,\n",
       " 67,\n",
       " 52,\n",
       " 29,\n",
       " 209,\n",
       " 30,\n",
       " 32,\n",
       " 132,\n",
       " 6,\n",
       " 109,\n",
       " 15,\n",
       " 17,\n",
       " 12]"
      ]
     },
     "execution_count": 18,
     "metadata": {},
     "output_type": "execute_result"
    }
   ],
   "source": [
    "train_data[0]"
   ]
  },
  {
   "cell_type": "code",
   "execution_count": 42,
   "metadata": {},
   "outputs": [],
   "source": [
    "import numpy as np\n",
    "def vectorize_sequences(sequences, dimension=10000):\n",
    "    results = np.zeros((len(sequences), dimension))\n",
    "    for i, sequence in enumerate(sequences):\n",
    "        results[i, sequence] = 1.\n",
    "        return results\n",
    "x_train = vectorize_sequences(train_data)\n",
    "x_test = vectorize_sequences(test_data)"
   ]
  },
  {
   "cell_type": "code",
   "execution_count": 57,
   "metadata": {},
   "outputs": [
    {
     "data": {
      "text/plain": [
       "array([0., 0., 0., ..., 0., 0., 0.])"
      ]
     },
     "execution_count": 57,
     "metadata": {},
     "output_type": "execute_result"
    }
   ],
   "source": [
    "x_train[9]"
   ]
  },
  {
   "cell_type": "code",
   "execution_count": 45,
   "metadata": {},
   "outputs": [],
   "source": [
    "def to_one_hot(labels, dimension=46):\n",
    "    results = np.zeros((len(labels), dimension))\n",
    "    for i, label in enumerate(labels):\n",
    "        results[i, label] = 1.\n",
    "        return results\n",
    "one_hot_train_labels = to_one_hot(train_labels)\n",
    "one_hot_test_labels = to_one_hot(test_labels)\n"
   ]
  },
  {
   "cell_type": "code",
   "execution_count": 54,
   "metadata": {},
   "outputs": [
    {
     "data": {
      "text/plain": [
       "8982"
      ]
     },
     "execution_count": 54,
     "metadata": {},
     "output_type": "execute_result"
    }
   ],
   "source": [
    "len(one_hot_train_labels)"
   ]
  },
  {
   "cell_type": "code",
   "execution_count": 55,
   "metadata": {},
   "outputs": [
    {
     "data": {
      "text/plain": [
       "numpy.ndarray"
      ]
     },
     "execution_count": 55,
     "metadata": {},
     "output_type": "execute_result"
    }
   ],
   "source": [
    "type(test_labels)"
   ]
  },
  {
   "cell_type": "code",
   "execution_count": 56,
   "metadata": {},
   "outputs": [
    {
     "data": {
      "text/plain": [
       "3"
      ]
     },
     "execution_count": 56,
     "metadata": {},
     "output_type": "execute_result"
    }
   ],
   "source": [
    "test_labels[7]"
   ]
  },
  {
   "cell_type": "code",
   "execution_count": 58,
   "metadata": {},
   "outputs": [
    {
     "data": {
      "text/plain": [
       "array([0., 0., 0., 1., 0., 0., 0., 0., 0., 0., 0., 0., 0., 0., 0., 0., 0.,\n",
       "       0., 0., 0., 0., 0., 0., 0., 0., 0., 0., 0., 0., 0., 0., 0., 0., 0.,\n",
       "       0., 0., 0., 0., 0., 0., 0., 0., 0., 0., 0., 0.])"
      ]
     },
     "execution_count": 58,
     "metadata": {},
     "output_type": "execute_result"
    }
   ],
   "source": [
    "one_hot_train_labels[0]"
   ]
  },
  {
   "cell_type": "code",
   "execution_count": 59,
   "metadata": {},
   "outputs": [],
   "source": [
    "from keras import models\n",
    "from keras import layers\n",
    "model = models.Sequential()\n",
    "model.add(layers.Dense(64, activation='relu', input_shape=(10000,)))\n",
    "model.add(layers.Dense(64, activation='relu'))\n",
    "model.add(layers.Dense(46, activation='softmax'))"
   ]
  },
  {
   "cell_type": "code",
   "execution_count": 60,
   "metadata": {},
   "outputs": [],
   "source": [
    "model.compile(optimizer='rmsprop',\n",
    "loss='categorical_crossentropy',\n",
    "metrics=['accuracy'])"
   ]
  },
  {
   "cell_type": "code",
   "execution_count": 61,
   "metadata": {},
   "outputs": [],
   "source": [
    "x_val = x_train[:1000]\n",
    "partial_x_train = x_train[1000:]\n",
    "y_val = one_hot_train_labels[:1000]\n",
    "partial_y_train = one_hot_train_labels[1000:]"
   ]
  },
  {
   "cell_type": "code",
   "execution_count": 62,
   "metadata": {},
   "outputs": [
    {
     "name": "stdout",
     "output_type": "stream",
     "text": [
      "Train on 7982 samples, validate on 1000 samples\n",
      "Epoch 1/20\n",
      "7982/7982 [==============================] - 4s 515us/step - loss: 0.0000e+00 - accuracy: 1.0000 - val_loss: 0.0038 - val_accuracy: 0.9990\n",
      "Epoch 2/20\n",
      "7982/7982 [==============================] - 2s 252us/step - loss: 0.0000e+00 - accuracy: 1.0000 - val_loss: 0.0038 - val_accuracy: 0.9990\n",
      "Epoch 3/20\n",
      "7982/7982 [==============================] - 3s 326us/step - loss: 0.0000e+00 - accuracy: 1.0000 - val_loss: 0.0038 - val_accuracy: 0.9990\n",
      "Epoch 4/20\n",
      "7982/7982 [==============================] - 2s 237us/step - loss: 0.0000e+00 - accuracy: 1.0000 - val_loss: 0.0038 - val_accuracy: 0.9990\n",
      "Epoch 5/20\n",
      "7982/7982 [==============================] - 2s 242us/step - loss: 0.0000e+00 - accuracy: 1.0000 - val_loss: 0.0038 - val_accuracy: 0.9990\n",
      "Epoch 6/20\n",
      "7982/7982 [==============================] - 2s 240us/step - loss: 0.0000e+00 - accuracy: 1.0000 - val_loss: 0.0038 - val_accuracy: 0.9990\n",
      "Epoch 7/20\n",
      "7982/7982 [==============================] - 2s 241us/step - loss: 0.0000e+00 - accuracy: 1.0000 - val_loss: 0.0038 - val_accuracy: 0.9990\n",
      "Epoch 8/20\n",
      "7982/7982 [==============================] - 2s 238us/step - loss: 0.0000e+00 - accuracy: 1.0000 - val_loss: 0.0038 - val_accuracy: 0.9990\n",
      "Epoch 9/20\n",
      "7982/7982 [==============================] - 2s 236us/step - loss: 0.0000e+00 - accuracy: 1.0000 - val_loss: 0.0038 - val_accuracy: 0.9990\n",
      "Epoch 10/20\n",
      "7982/7982 [==============================] - 2s 250us/step - loss: 0.0000e+00 - accuracy: 1.0000 - val_loss: 0.0038 - val_accuracy: 0.9990\n",
      "Epoch 11/20\n",
      "7982/7982 [==============================] - 2s 237us/step - loss: 0.0000e+00 - accuracy: 1.0000 - val_loss: 0.0038 - val_accuracy: 0.9990\n",
      "Epoch 12/20\n",
      "7982/7982 [==============================] - 2s 237us/step - loss: 0.0000e+00 - accuracy: 1.0000 - val_loss: 0.0038 - val_accuracy: 0.9990\n",
      "Epoch 13/20\n",
      "7982/7982 [==============================] - 2s 237us/step - loss: 0.0000e+00 - accuracy: 1.0000 - val_loss: 0.0038 - val_accuracy: 0.9990\n",
      "Epoch 14/20\n",
      "7982/7982 [==============================] - 2s 237us/step - loss: 0.0000e+00 - accuracy: 1.0000 - val_loss: 0.0038 - val_accuracy: 0.9990\n",
      "Epoch 15/20\n",
      "7982/7982 [==============================] - 2s 236us/step - loss: 0.0000e+00 - accuracy: 1.0000 - val_loss: 0.0038 - val_accuracy: 0.9990\n",
      "Epoch 16/20\n",
      "7982/7982 [==============================] - 2s 237us/step - loss: 0.0000e+00 - accuracy: 1.0000 - val_loss: 0.0038 - val_accuracy: 0.9990\n",
      "Epoch 17/20\n",
      "7982/7982 [==============================] - 2s 236us/step - loss: 0.0000e+00 - accuracy: 1.0000 - val_loss: 0.0038 - val_accuracy: 0.9990\n",
      "Epoch 18/20\n",
      "7982/7982 [==============================] - 2s 247us/step - loss: 0.0000e+00 - accuracy: 1.0000 - val_loss: 0.0038 - val_accuracy: 0.9990\n",
      "Epoch 19/20\n",
      "7982/7982 [==============================] - 2s 239us/step - loss: 0.0000e+00 - accuracy: 1.0000 - val_loss: 0.0038 - val_accuracy: 0.9990\n",
      "Epoch 20/20\n",
      "7982/7982 [==============================] - 2s 237us/step - loss: 0.0000e+00 - accuracy: 1.0000 - val_loss: 0.0038 - val_accuracy: 0.9990\n"
     ]
    }
   ],
   "source": [
    "history = model.fit(partial_x_train,\n",
    "partial_y_train,\n",
    "epochs=20,\n",
    "batch_size=512,\n",
    "validation_data=(x_val, y_val))"
   ]
  },
  {
   "cell_type": "code",
   "execution_count": 65,
   "metadata": {},
   "outputs": [
    {
     "name": "stdout",
     "output_type": "stream",
     "text": [
      "2246/2246 [==============================] - 1s 231us/step\n",
      "test_acc: 0.9995547533035278\n",
      "test_loss: 0.0016900532392126475\n"
     ]
    }
   ],
   "source": [
    "test_loss,test_acc = model.evaluate(x_test, one_hot_test_labels)\n",
    "print(\"test_acc:\",test_acc)\n",
    "print(\"test_loss:\",test_loss)"
   ]
  },
  {
   "cell_type": "code",
   "execution_count": 69,
   "metadata": {
    "scrolled": true
   },
   "outputs": [
    {
     "name": "stdout",
     "output_type": "stream",
     "text": [
      "Train on 7982 samples, validate on 1000 samples\n",
      "Epoch 1/9\n",
      "7982/7982 [==============================] - 2s 288us/step - loss: 0.0000e+00 - accuracy: 1.0000 - val_loss: 0.0037 - val_accuracy: 1.0000\n",
      "Epoch 2/9\n",
      "7982/7982 [==============================] - 2s 233us/step - loss: 0.0000e+00 - accuracy: 1.0000 - val_loss: 0.0037 - val_accuracy: 1.0000\n",
      "Epoch 3/9\n",
      "7982/7982 [==============================] - 2s 261us/step - loss: 0.0000e+00 - accuracy: 1.0000 - val_loss: 0.0037 - val_accuracy: 1.0000\n",
      "Epoch 4/9\n",
      "7982/7982 [==============================] - 2s 247us/step - loss: 0.0000e+00 - accuracy: 1.0000 - val_loss: 0.0037 - val_accuracy: 1.0000\n",
      "Epoch 5/9\n",
      "7982/7982 [==============================] - 2s 224us/step - loss: 0.0000e+00 - accuracy: 1.0000 - val_loss: 0.0037 - val_accuracy: 1.0000\n",
      "Epoch 6/9\n",
      "7982/7982 [==============================] - 2s 230us/step - loss: 0.0000e+00 - accuracy: 1.0000 - val_loss: 0.0037 - val_accuracy: 1.0000\n",
      "Epoch 7/9\n",
      "7982/7982 [==============================] - 2s 222us/step - loss: 0.0000e+00 - accuracy: 1.0000 - val_loss: 0.0037 - val_accuracy: 1.0000\n",
      "Epoch 8/9\n",
      "7982/7982 [==============================] - 2s 223us/step - loss: 0.0000e+00 - accuracy: 1.0000 - val_loss: 0.0037 - val_accuracy: 1.0000\n",
      "Epoch 9/9\n",
      "7982/7982 [==============================] - 2s 223us/step - loss: 0.0000e+00 - accuracy: 1.0000 - val_loss: 0.0037 - val_accuracy: 1.0000\n",
      "2246/2246 [==============================] - 0s 199us/step\n",
      "test_acc: 0.9995547533035278\n",
      "test_loss: 0.0016766075353376163\n"
     ]
    }
   ],
   "source": [
    "model = models.Sequential()\n",
    "model.add(layers.Dense(64, activation='relu', input_shape=(10000,)))\n",
    "model.add(layers.Dense(64, activation='relu'))\n",
    "model.add(layers.Dense(46, activation='softmax'))\n",
    "model.compile(optimizer='rmsprop',\n",
    "loss='categorical_crossentropy',\n",
    "metrics=['accuracy'])\n",
    "model.fit(partial_x_train,\n",
    "partial_y_train,\n",
    "epochs=9,\n",
    "batch_size=512,\n",
    "validation_data=(x_val, y_val))\n",
    "\n",
    "test_loss,test_acc = model.evaluate(x_test, one_hot_test_labels)\n",
    "print(\"test_acc:\",test_acc)\n",
    "print(\"test_loss:\",test_loss)"
   ]
  },
  {
   "cell_type": "code",
   "execution_count": 67,
   "metadata": {},
   "outputs": [
    {
     "name": "stdout",
     "output_type": "stream",
     "text": [
      "2246/2246 [==============================] - 1s 284us/step\n",
      "Test Accuracy: 0.9995547533035278\n"
     ]
    }
   ],
   "source": [
    "score = model.evaluate(x_test, one_hot_test_labels)\n",
    "print(\"Test Accuracy: {}\".format(score[1]))"
   ]
  },
  {
   "cell_type": "code",
   "execution_count": null,
   "metadata": {},
   "outputs": [],
   "source": []
  }
 ],
 "metadata": {
  "kernelspec": {
   "display_name": "Python 3",
   "language": "python",
   "name": "python3"
  },
  "language_info": {
   "codemirror_mode": {
    "name": "ipython",
    "version": 3
   },
   "file_extension": ".py",
   "mimetype": "text/x-python",
   "name": "python",
   "nbconvert_exporter": "python",
   "pygments_lexer": "ipython3",
   "version": "3.6.10"
  }
 },
 "nbformat": 4,
 "nbformat_minor": 4
}
